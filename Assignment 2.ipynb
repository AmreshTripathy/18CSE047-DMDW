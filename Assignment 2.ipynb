{
 "cells": [
  {
   "cell_type": "code",
   "execution_count": 1,
   "metadata": {},
   "outputs": [],
   "source": [
    "#Toyota data set comma separated value\n",
    "path = \"E:/taxi_data.csv\""
   ]
  },
  {
   "cell_type": "code",
   "execution_count": 2,
   "metadata": {},
   "outputs": [],
   "source": [
    "import pandas as pd"
   ]
  },
  {
   "cell_type": "code",
   "execution_count": 3,
   "metadata": {},
   "outputs": [],
   "source": [
    "data = pd.read_csv(\"E:/taxi_data.csv\")"
   ]
  },
  {
   "cell_type": "code",
   "execution_count": 4,
   "metadata": {},
   "outputs": [
    {
     "data": {
      "text/html": [
       "<div>\n",
       "<style scoped>\n",
       "    .dataframe tbody tr th:only-of-type {\n",
       "        vertical-align: middle;\n",
       "    }\n",
       "\n",
       "    .dataframe tbody tr th {\n",
       "        vertical-align: top;\n",
       "    }\n",
       "\n",
       "    .dataframe thead th {\n",
       "        text-align: right;\n",
       "    }\n",
       "</style>\n",
       "<table border=\"1\" class=\"dataframe\">\n",
       "  <thead>\n",
       "    <tr style=\"text-align: right;\">\n",
       "      <th></th>\n",
       "      <th>LON</th>\n",
       "      <th>LAT</th>\n",
       "      <th>NAME</th>\n",
       "    </tr>\n",
       "  </thead>\n",
       "  <tbody>\n",
       "    <tr>\n",
       "      <th>0</th>\n",
       "      <td>28.17858</td>\n",
       "      <td>-25.73882</td>\n",
       "      <td>11th Street Taxi Rank</td>\n",
       "    </tr>\n",
       "    <tr>\n",
       "      <th>1</th>\n",
       "      <td>28.17660</td>\n",
       "      <td>-25.73795</td>\n",
       "      <td>81 Bazaar Street Taxi Rank</td>\n",
       "    </tr>\n",
       "    <tr>\n",
       "      <th>2</th>\n",
       "      <td>27.83239</td>\n",
       "      <td>-26.53722</td>\n",
       "      <td>Adams Road Taxi Rank</td>\n",
       "    </tr>\n",
       "    <tr>\n",
       "      <th>3</th>\n",
       "      <td>28.12514</td>\n",
       "      <td>-26.26666</td>\n",
       "      <td>Alberton City Mall Taxi Rank</td>\n",
       "    </tr>\n",
       "    <tr>\n",
       "      <th>4</th>\n",
       "      <td>28.10144</td>\n",
       "      <td>-26.10567</td>\n",
       "      <td>Alexandra Main Taxi Rank</td>\n",
       "    </tr>\n",
       "    <tr>\n",
       "      <th>...</th>\n",
       "      <td>...</td>\n",
       "      <td>...</td>\n",
       "      <td>...</td>\n",
       "    </tr>\n",
       "    <tr>\n",
       "      <th>833</th>\n",
       "      <td>27.82999</td>\n",
       "      <td>-26.24445</td>\n",
       "      <td>Zola Clinic Taxi Rank</td>\n",
       "    </tr>\n",
       "    <tr>\n",
       "      <th>834</th>\n",
       "      <td>27.83991</td>\n",
       "      <td>-26.24235</td>\n",
       "      <td>Zola Taxi Rank</td>\n",
       "    </tr>\n",
       "    <tr>\n",
       "      <th>835</th>\n",
       "      <td>27.86166</td>\n",
       "      <td>-26.23624</td>\n",
       "      <td>Zondi Taxi Rank</td>\n",
       "    </tr>\n",
       "    <tr>\n",
       "      <th>836</th>\n",
       "      <td>28.39097</td>\n",
       "      <td>-26.30931</td>\n",
       "      <td>kwaThema Taxi Rank</td>\n",
       "    </tr>\n",
       "    <tr>\n",
       "      <th>837</th>\n",
       "      <td>NaN</td>\n",
       "      <td>NaN</td>\n",
       "      <td>NaN</td>\n",
       "    </tr>\n",
       "  </tbody>\n",
       "</table>\n",
       "<p>838 rows × 3 columns</p>\n",
       "</div>"
      ],
      "text/plain": [
       "          LON       LAT                          NAME\n",
       "0    28.17858 -25.73882         11th Street Taxi Rank\n",
       "1    28.17660 -25.73795    81 Bazaar Street Taxi Rank\n",
       "2    27.83239 -26.53722          Adams Road Taxi Rank\n",
       "3    28.12514 -26.26666  Alberton City Mall Taxi Rank\n",
       "4    28.10144 -26.10567      Alexandra Main Taxi Rank\n",
       "..        ...       ...                           ...\n",
       "833  27.82999 -26.24445         Zola Clinic Taxi Rank\n",
       "834  27.83991 -26.24235                Zola Taxi Rank\n",
       "835  27.86166 -26.23624               Zondi Taxi Rank\n",
       "836  28.39097 -26.30931            kwaThema Taxi Rank\n",
       "837       NaN       NaN                           NaN\n",
       "\n",
       "[838 rows x 3 columns]"
      ]
     },
     "execution_count": 4,
     "metadata": {},
     "output_type": "execute_result"
    }
   ],
   "source": [
    "data"
   ]
  },
  {
   "cell_type": "code",
   "execution_count": 7,
   "metadata": {},
   "outputs": [],
   "source": [
    "data = pd.read_csv(\"E:/taxi_data.csv\" , index_col =\"LON\")"
   ]
  },
  {
   "cell_type": "code",
   "execution_count": 8,
   "metadata": {},
   "outputs": [
    {
     "data": {
      "text/html": [
       "<div>\n",
       "<style scoped>\n",
       "    .dataframe tbody tr th:only-of-type {\n",
       "        vertical-align: middle;\n",
       "    }\n",
       "\n",
       "    .dataframe tbody tr th {\n",
       "        vertical-align: top;\n",
       "    }\n",
       "\n",
       "    .dataframe thead th {\n",
       "        text-align: right;\n",
       "    }\n",
       "</style>\n",
       "<table border=\"1\" class=\"dataframe\">\n",
       "  <thead>\n",
       "    <tr style=\"text-align: right;\">\n",
       "      <th></th>\n",
       "      <th>LAT</th>\n",
       "      <th>NAME</th>\n",
       "    </tr>\n",
       "    <tr>\n",
       "      <th>LON</th>\n",
       "      <th></th>\n",
       "      <th></th>\n",
       "    </tr>\n",
       "  </thead>\n",
       "  <tbody>\n",
       "    <tr>\n",
       "      <th>28.17858</th>\n",
       "      <td>-25.73882</td>\n",
       "      <td>11th Street Taxi Rank</td>\n",
       "    </tr>\n",
       "    <tr>\n",
       "      <th>28.17660</th>\n",
       "      <td>-25.73795</td>\n",
       "      <td>81 Bazaar Street Taxi Rank</td>\n",
       "    </tr>\n",
       "    <tr>\n",
       "      <th>27.83239</th>\n",
       "      <td>-26.53722</td>\n",
       "      <td>Adams Road Taxi Rank</td>\n",
       "    </tr>\n",
       "    <tr>\n",
       "      <th>28.12514</th>\n",
       "      <td>-26.26666</td>\n",
       "      <td>Alberton City Mall Taxi Rank</td>\n",
       "    </tr>\n",
       "    <tr>\n",
       "      <th>28.10144</th>\n",
       "      <td>-26.10567</td>\n",
       "      <td>Alexandra Main Taxi Rank</td>\n",
       "    </tr>\n",
       "    <tr>\n",
       "      <th>...</th>\n",
       "      <td>...</td>\n",
       "      <td>...</td>\n",
       "    </tr>\n",
       "    <tr>\n",
       "      <th>27.82999</th>\n",
       "      <td>-26.24445</td>\n",
       "      <td>Zola Clinic Taxi Rank</td>\n",
       "    </tr>\n",
       "    <tr>\n",
       "      <th>27.83991</th>\n",
       "      <td>-26.24235</td>\n",
       "      <td>Zola Taxi Rank</td>\n",
       "    </tr>\n",
       "    <tr>\n",
       "      <th>27.86166</th>\n",
       "      <td>-26.23624</td>\n",
       "      <td>Zondi Taxi Rank</td>\n",
       "    </tr>\n",
       "    <tr>\n",
       "      <th>28.39097</th>\n",
       "      <td>-26.30931</td>\n",
       "      <td>kwaThema Taxi Rank</td>\n",
       "    </tr>\n",
       "    <tr>\n",
       "      <th>NaN</th>\n",
       "      <td>NaN</td>\n",
       "      <td>NaN</td>\n",
       "    </tr>\n",
       "  </tbody>\n",
       "</table>\n",
       "<p>838 rows × 2 columns</p>\n",
       "</div>"
      ],
      "text/plain": [
       "               LAT                          NAME\n",
       "LON                                             \n",
       "28.17858 -25.73882         11th Street Taxi Rank\n",
       "28.17660 -25.73795    81 Bazaar Street Taxi Rank\n",
       "27.83239 -26.53722          Adams Road Taxi Rank\n",
       "28.12514 -26.26666  Alberton City Mall Taxi Rank\n",
       "28.10144 -26.10567      Alexandra Main Taxi Rank\n",
       "...            ...                           ...\n",
       "27.82999 -26.24445         Zola Clinic Taxi Rank\n",
       "27.83991 -26.24235                Zola Taxi Rank\n",
       "27.86166 -26.23624               Zondi Taxi Rank\n",
       "28.39097 -26.30931            kwaThema Taxi Rank\n",
       "NaN            NaN                           NaN\n",
       "\n",
       "[838 rows x 2 columns]"
      ]
     },
     "execution_count": 8,
     "metadata": {},
     "output_type": "execute_result"
    }
   ],
   "source": [
    "data"
   ]
  },
  {
   "cell_type": "code",
   "execution_count": 9,
   "metadata": {},
   "outputs": [
    {
     "data": {
      "text/plain": [
       "pandas.core.frame.DataFrame"
      ]
     },
     "execution_count": 9,
     "metadata": {},
     "output_type": "execute_result"
    }
   ],
   "source": [
    "type(data)"
   ]
  },
  {
   "cell_type": "code",
   "execution_count": 10,
   "metadata": {},
   "outputs": [
    {
     "data": {
      "text/plain": [
       "(838, 2)"
      ]
     },
     "execution_count": 10,
     "metadata": {},
     "output_type": "execute_result"
    }
   ],
   "source": [
    "data.shape"
   ]
  },
  {
   "cell_type": "code",
   "execution_count": 11,
   "metadata": {},
   "outputs": [
    {
     "name": "stdout",
     "output_type": "stream",
     "text": [
      "<class 'pandas.core.frame.DataFrame'>\n",
      "Float64Index: 838 entries, 28.17858 to nan\n",
      "Data columns (total 2 columns):\n",
      " #   Column  Non-Null Count  Dtype  \n",
      "---  ------  --------------  -----  \n",
      " 0   LAT     837 non-null    float64\n",
      " 1   NAME    837 non-null    object \n",
      "dtypes: float64(1), object(1)\n",
      "memory usage: 19.6+ KB\n"
     ]
    }
   ],
   "source": [
    "data.info()"
   ]
  },
  {
   "cell_type": "code",
   "execution_count": 12,
   "metadata": {},
   "outputs": [
    {
     "data": {
      "text/plain": [
       "Float64Index([          28.17858,            28.1766, 27.832390000000004,\n",
       "              28.125140000000002, 28.101440000000004,           28.10125,\n",
       "                        28.10185,           28.10165, 28.101509999999998,\n",
       "              28.101999999999997,\n",
       "              ...\n",
       "                        28.19143, 28.090190000000003,           28.09058,\n",
       "              28.083109999999998,           28.04441, 27.829990000000002,\n",
       "              27.839909999999996, 27.861659999999997, 28.390970000000003,\n",
       "                             nan],\n",
       "             dtype='float64', name='LON', length=838)"
      ]
     },
     "execution_count": 12,
     "metadata": {},
     "output_type": "execute_result"
    }
   ],
   "source": [
    "data.index"
   ]
  },
  {
   "cell_type": "code",
   "execution_count": 13,
   "metadata": {},
   "outputs": [
    {
     "data": {
      "text/plain": [
       "Index(['LAT', 'NAME'], dtype='object')"
      ]
     },
     "execution_count": 13,
     "metadata": {},
     "output_type": "execute_result"
    }
   ],
   "source": [
    "data.columns"
   ]
  },
  {
   "cell_type": "code",
   "execution_count": 14,
   "metadata": {},
   "outputs": [
    {
     "data": {
      "text/html": [
       "<div>\n",
       "<style scoped>\n",
       "    .dataframe tbody tr th:only-of-type {\n",
       "        vertical-align: middle;\n",
       "    }\n",
       "\n",
       "    .dataframe tbody tr th {\n",
       "        vertical-align: top;\n",
       "    }\n",
       "\n",
       "    .dataframe thead th {\n",
       "        text-align: right;\n",
       "    }\n",
       "</style>\n",
       "<table border=\"1\" class=\"dataframe\">\n",
       "  <thead>\n",
       "    <tr style=\"text-align: right;\">\n",
       "      <th></th>\n",
       "      <th>LAT</th>\n",
       "      <th>NAME</th>\n",
       "    </tr>\n",
       "    <tr>\n",
       "      <th>LON</th>\n",
       "      <th></th>\n",
       "      <th></th>\n",
       "    </tr>\n",
       "  </thead>\n",
       "  <tbody>\n",
       "    <tr>\n",
       "      <th>28.17858</th>\n",
       "      <td>-25.73882</td>\n",
       "      <td>11th Street Taxi Rank</td>\n",
       "    </tr>\n",
       "    <tr>\n",
       "      <th>28.17660</th>\n",
       "      <td>-25.73795</td>\n",
       "      <td>81 Bazaar Street Taxi Rank</td>\n",
       "    </tr>\n",
       "    <tr>\n",
       "      <th>27.83239</th>\n",
       "      <td>-26.53722</td>\n",
       "      <td>Adams Road Taxi Rank</td>\n",
       "    </tr>\n",
       "    <tr>\n",
       "      <th>28.12514</th>\n",
       "      <td>-26.26666</td>\n",
       "      <td>Alberton City Mall Taxi Rank</td>\n",
       "    </tr>\n",
       "    <tr>\n",
       "      <th>28.10144</th>\n",
       "      <td>-26.10567</td>\n",
       "      <td>Alexandra Main Taxi Rank</td>\n",
       "    </tr>\n",
       "  </tbody>\n",
       "</table>\n",
       "</div>"
      ],
      "text/plain": [
       "               LAT                          NAME\n",
       "LON                                             \n",
       "28.17858 -25.73882         11th Street Taxi Rank\n",
       "28.17660 -25.73795    81 Bazaar Street Taxi Rank\n",
       "27.83239 -26.53722          Adams Road Taxi Rank\n",
       "28.12514 -26.26666  Alberton City Mall Taxi Rank\n",
       "28.10144 -26.10567      Alexandra Main Taxi Rank"
      ]
     },
     "execution_count": 14,
     "metadata": {},
     "output_type": "execute_result"
    }
   ],
   "source": [
    "data.head()"
   ]
  },
  {
   "cell_type": "code",
   "execution_count": 15,
   "metadata": {},
   "outputs": [
    {
     "data": {
      "text/html": [
       "<div>\n",
       "<style scoped>\n",
       "    .dataframe tbody tr th:only-of-type {\n",
       "        vertical-align: middle;\n",
       "    }\n",
       "\n",
       "    .dataframe tbody tr th {\n",
       "        vertical-align: top;\n",
       "    }\n",
       "\n",
       "    .dataframe thead th {\n",
       "        text-align: right;\n",
       "    }\n",
       "</style>\n",
       "<table border=\"1\" class=\"dataframe\">\n",
       "  <thead>\n",
       "    <tr style=\"text-align: right;\">\n",
       "      <th></th>\n",
       "      <th>LAT</th>\n",
       "      <th>NAME</th>\n",
       "    </tr>\n",
       "    <tr>\n",
       "      <th>LON</th>\n",
       "      <th></th>\n",
       "      <th></th>\n",
       "    </tr>\n",
       "  </thead>\n",
       "  <tbody>\n",
       "    <tr>\n",
       "      <th>27.82999</th>\n",
       "      <td>-26.24445</td>\n",
       "      <td>Zola Clinic Taxi Rank</td>\n",
       "    </tr>\n",
       "    <tr>\n",
       "      <th>27.83991</th>\n",
       "      <td>-26.24235</td>\n",
       "      <td>Zola Taxi Rank</td>\n",
       "    </tr>\n",
       "    <tr>\n",
       "      <th>27.86166</th>\n",
       "      <td>-26.23624</td>\n",
       "      <td>Zondi Taxi Rank</td>\n",
       "    </tr>\n",
       "    <tr>\n",
       "      <th>28.39097</th>\n",
       "      <td>-26.30931</td>\n",
       "      <td>kwaThema Taxi Rank</td>\n",
       "    </tr>\n",
       "    <tr>\n",
       "      <th>NaN</th>\n",
       "      <td>NaN</td>\n",
       "      <td>NaN</td>\n",
       "    </tr>\n",
       "  </tbody>\n",
       "</table>\n",
       "</div>"
      ],
      "text/plain": [
       "               LAT                   NAME\n",
       "LON                                      \n",
       "27.82999 -26.24445  Zola Clinic Taxi Rank\n",
       "27.83991 -26.24235         Zola Taxi Rank\n",
       "27.86166 -26.23624        Zondi Taxi Rank\n",
       "28.39097 -26.30931     kwaThema Taxi Rank\n",
       "NaN            NaN                    NaN"
      ]
     },
     "execution_count": 15,
     "metadata": {},
     "output_type": "execute_result"
    }
   ],
   "source": [
    "data.tail()"
   ]
  },
  {
   "cell_type": "code",
   "execution_count": 16,
   "metadata": {},
   "outputs": [
    {
     "data": {
      "text/html": [
       "<div>\n",
       "<style scoped>\n",
       "    .dataframe tbody tr th:only-of-type {\n",
       "        vertical-align: middle;\n",
       "    }\n",
       "\n",
       "    .dataframe tbody tr th {\n",
       "        vertical-align: top;\n",
       "    }\n",
       "\n",
       "    .dataframe thead th {\n",
       "        text-align: right;\n",
       "    }\n",
       "</style>\n",
       "<table border=\"1\" class=\"dataframe\">\n",
       "  <thead>\n",
       "    <tr style=\"text-align: right;\">\n",
       "      <th></th>\n",
       "      <th>LAT</th>\n",
       "      <th>NAME</th>\n",
       "    </tr>\n",
       "    <tr>\n",
       "      <th>LON</th>\n",
       "      <th></th>\n",
       "      <th></th>\n",
       "    </tr>\n",
       "  </thead>\n",
       "  <tbody>\n",
       "    <tr>\n",
       "      <th>28.17858</th>\n",
       "      <td>-25.73882</td>\n",
       "      <td>11th Street Taxi Rank</td>\n",
       "    </tr>\n",
       "    <tr>\n",
       "      <th>28.17660</th>\n",
       "      <td>-25.73795</td>\n",
       "      <td>81 Bazaar Street Taxi Rank</td>\n",
       "    </tr>\n",
       "    <tr>\n",
       "      <th>27.83239</th>\n",
       "      <td>-26.53722</td>\n",
       "      <td>Adams Road Taxi Rank</td>\n",
       "    </tr>\n",
       "  </tbody>\n",
       "</table>\n",
       "</div>"
      ],
      "text/plain": [
       "               LAT                        NAME\n",
       "LON                                           \n",
       "28.17858 -25.73882       11th Street Taxi Rank\n",
       "28.17660 -25.73795  81 Bazaar Street Taxi Rank\n",
       "27.83239 -26.53722        Adams Road Taxi Rank"
      ]
     },
     "execution_count": 16,
     "metadata": {},
     "output_type": "execute_result"
    }
   ],
   "source": [
    "data.head(3)"
   ]
  },
  {
   "cell_type": "code",
   "execution_count": 20,
   "metadata": {},
   "outputs": [
    {
     "data": {
      "text/html": [
       "<div>\n",
       "<style scoped>\n",
       "    .dataframe tbody tr th:only-of-type {\n",
       "        vertical-align: middle;\n",
       "    }\n",
       "\n",
       "    .dataframe tbody tr th {\n",
       "        vertical-align: top;\n",
       "    }\n",
       "\n",
       "    .dataframe thead th {\n",
       "        text-align: right;\n",
       "    }\n",
       "</style>\n",
       "<table border=\"1\" class=\"dataframe\">\n",
       "  <thead>\n",
       "    <tr style=\"text-align: right;\">\n",
       "      <th></th>\n",
       "      <th>LAT</th>\n",
       "      <th>NAME</th>\n",
       "    </tr>\n",
       "    <tr>\n",
       "      <th>LON</th>\n",
       "      <th></th>\n",
       "      <th></th>\n",
       "    </tr>\n",
       "  </thead>\n",
       "  <tbody>\n",
       "    <tr>\n",
       "      <th>28.17858</th>\n",
       "      <td>-25.73882</td>\n",
       "      <td>11th Street Taxi Rank</td>\n",
       "    </tr>\n",
       "    <tr>\n",
       "      <th>28.17660</th>\n",
       "      <td>-25.73795</td>\n",
       "      <td>81 Bazaar Street Taxi Rank</td>\n",
       "    </tr>\n",
       "    <tr>\n",
       "      <th>27.83239</th>\n",
       "      <td>-26.53722</td>\n",
       "      <td>Adams Road Taxi Rank</td>\n",
       "    </tr>\n",
       "    <tr>\n",
       "      <th>28.12514</th>\n",
       "      <td>-26.26666</td>\n",
       "      <td>Alberton City Mall Taxi Rank</td>\n",
       "    </tr>\n",
       "    <tr>\n",
       "      <th>28.10144</th>\n",
       "      <td>-26.10567</td>\n",
       "      <td>Alexandra Main Taxi Rank</td>\n",
       "    </tr>\n",
       "    <tr>\n",
       "      <th>28.10125</th>\n",
       "      <td>-26.10605</td>\n",
       "      <td>Alexandra Main Taxi Rank</td>\n",
       "    </tr>\n",
       "    <tr>\n",
       "      <th>28.10185</th>\n",
       "      <td>-26.10537</td>\n",
       "      <td>Alexandra Main Taxi Rank</td>\n",
       "    </tr>\n",
       "    <tr>\n",
       "      <th>28.10165</th>\n",
       "      <td>-26.10479</td>\n",
       "      <td>Alexandra Taxi Rank</td>\n",
       "    </tr>\n",
       "    <tr>\n",
       "      <th>28.10151</th>\n",
       "      <td>-26.10594</td>\n",
       "      <td>Alexandra Taxi Rank</td>\n",
       "    </tr>\n",
       "    <tr>\n",
       "      <th>28.10200</th>\n",
       "      <td>-26.10576</td>\n",
       "      <td>Alexandra Taxi Rank</td>\n",
       "    </tr>\n",
       "  </tbody>\n",
       "</table>\n",
       "</div>"
      ],
      "text/plain": [
       "               LAT                          NAME\n",
       "LON                                             \n",
       "28.17858 -25.73882         11th Street Taxi Rank\n",
       "28.17660 -25.73795    81 Bazaar Street Taxi Rank\n",
       "27.83239 -26.53722          Adams Road Taxi Rank\n",
       "28.12514 -26.26666  Alberton City Mall Taxi Rank\n",
       "28.10144 -26.10567      Alexandra Main Taxi Rank\n",
       "28.10125 -26.10605      Alexandra Main Taxi Rank\n",
       "28.10185 -26.10537      Alexandra Main Taxi Rank\n",
       "28.10165 -26.10479           Alexandra Taxi Rank\n",
       "28.10151 -26.10594           Alexandra Taxi Rank\n",
       "28.10200 -26.10576           Alexandra Taxi Rank"
      ]
     },
     "execution_count": 20,
     "metadata": {},
     "output_type": "execute_result"
    }
   ],
   "source": [
    "data[['LAT','NAME']].head(10)"
   ]
  },
  {
   "cell_type": "code",
   "execution_count": 21,
   "metadata": {},
   "outputs": [
    {
     "data": {
      "text/plain": [
       "LAT     1\n",
       "NAME    1\n",
       "dtype: int64"
      ]
     },
     "execution_count": 21,
     "metadata": {},
     "output_type": "execute_result"
    }
   ],
   "source": [
    "### Data Wrangling (Working With Null Values)\n",
    "data.isnull().sum()"
   ]
  },
  {
   "cell_type": "code",
   "execution_count": 22,
   "metadata": {},
   "outputs": [
    {
     "data": {
      "text/plain": [
       "LAT     0\n",
       "NAME    0\n",
       "dtype: int64"
      ]
     },
     "execution_count": 22,
     "metadata": {},
     "output_type": "execute_result"
    }
   ],
   "source": [
    "data.dropna(inplace=True) # removed the null values 1st method remove rows when large data we having\n",
    "data.isnull().sum()"
   ]
  },
  {
   "cell_type": "code",
   "execution_count": 23,
   "metadata": {},
   "outputs": [
    {
     "data": {
      "text/plain": [
       "(837, 2)"
      ]
     },
     "execution_count": 23,
     "metadata": {},
     "output_type": "execute_result"
    }
   ],
   "source": [
    "data.shape"
   ]
  },
  {
   "cell_type": "code",
   "execution_count": 24,
   "metadata": {},
   "outputs": [
    {
     "data": {
      "text/html": [
       "<div>\n",
       "<style scoped>\n",
       "    .dataframe tbody tr th:only-of-type {\n",
       "        vertical-align: middle;\n",
       "    }\n",
       "\n",
       "    .dataframe tbody tr th {\n",
       "        vertical-align: top;\n",
       "    }\n",
       "\n",
       "    .dataframe thead th {\n",
       "        text-align: right;\n",
       "    }\n",
       "</style>\n",
       "<table border=\"1\" class=\"dataframe\">\n",
       "  <thead>\n",
       "    <tr style=\"text-align: right;\">\n",
       "      <th></th>\n",
       "      <th>LAT</th>\n",
       "      <th>NAME</th>\n",
       "    </tr>\n",
       "    <tr>\n",
       "      <th>LON</th>\n",
       "      <th></th>\n",
       "      <th></th>\n",
       "    </tr>\n",
       "  </thead>\n",
       "  <tbody>\n",
       "    <tr>\n",
       "      <th>28.17858</th>\n",
       "      <td>-25.73882</td>\n",
       "      <td>11th Street Taxi Rank</td>\n",
       "    </tr>\n",
       "    <tr>\n",
       "      <th>28.17660</th>\n",
       "      <td>-25.73795</td>\n",
       "      <td>81 Bazaar Street Taxi Rank</td>\n",
       "    </tr>\n",
       "    <tr>\n",
       "      <th>27.83239</th>\n",
       "      <td>-26.53722</td>\n",
       "      <td>Adams Road Taxi Rank</td>\n",
       "    </tr>\n",
       "    <tr>\n",
       "      <th>28.12514</th>\n",
       "      <td>-26.26666</td>\n",
       "      <td>Alberton City Mall Taxi Rank</td>\n",
       "    </tr>\n",
       "    <tr>\n",
       "      <th>28.10144</th>\n",
       "      <td>-26.10567</td>\n",
       "      <td>Alexandra Main Taxi Rank</td>\n",
       "    </tr>\n",
       "    <tr>\n",
       "      <th>28.10125</th>\n",
       "      <td>-26.10605</td>\n",
       "      <td>Alexandra Main Taxi Rank</td>\n",
       "    </tr>\n",
       "    <tr>\n",
       "      <th>28.10185</th>\n",
       "      <td>-26.10537</td>\n",
       "      <td>Alexandra Main Taxi Rank</td>\n",
       "    </tr>\n",
       "    <tr>\n",
       "      <th>28.10165</th>\n",
       "      <td>-26.10479</td>\n",
       "      <td>Alexandra Taxi Rank</td>\n",
       "    </tr>\n",
       "    <tr>\n",
       "      <th>28.10151</th>\n",
       "      <td>-26.10594</td>\n",
       "      <td>Alexandra Taxi Rank</td>\n",
       "    </tr>\n",
       "    <tr>\n",
       "      <th>28.10200</th>\n",
       "      <td>-26.10576</td>\n",
       "      <td>Alexandra Taxi Rank</td>\n",
       "    </tr>\n",
       "  </tbody>\n",
       "</table>\n",
       "</div>"
      ],
      "text/plain": [
       "               LAT                          NAME\n",
       "LON                                             \n",
       "28.17858 -25.73882         11th Street Taxi Rank\n",
       "28.17660 -25.73795    81 Bazaar Street Taxi Rank\n",
       "27.83239 -26.53722          Adams Road Taxi Rank\n",
       "28.12514 -26.26666  Alberton City Mall Taxi Rank\n",
       "28.10144 -26.10567      Alexandra Main Taxi Rank\n",
       "28.10125 -26.10605      Alexandra Main Taxi Rank\n",
       "28.10185 -26.10537      Alexandra Main Taxi Rank\n",
       "28.10165 -26.10479           Alexandra Taxi Rank\n",
       "28.10151 -26.10594           Alexandra Taxi Rank\n",
       "28.10200 -26.10576           Alexandra Taxi Rank"
      ]
     },
     "execution_count": 24,
     "metadata": {},
     "output_type": "execute_result"
    }
   ],
   "source": [
    "data.head(10)"
   ]
  },
  {
   "cell_type": "code",
   "execution_count": 25,
   "metadata": {},
   "outputs": [
    {
     "data": {
      "text/plain": [
       "-26.145756821983316"
      ]
     },
     "execution_count": 25,
     "metadata": {},
     "output_type": "execute_result"
    }
   ],
   "source": [
    "#2nd method handling missing values\n",
    "data['LAT'].mean()"
   ]
  },
  {
   "cell_type": "code",
   "execution_count": 26,
   "metadata": {},
   "outputs": [],
   "source": [
    "import numpy as np"
   ]
  },
  {
   "cell_type": "code",
   "execution_count": 27,
   "metadata": {},
   "outputs": [
    {
     "data": {
      "text/plain": [
       "LON\n",
       "28.17858   -25.73882\n",
       "28.17660   -25.73795\n",
       "27.83239   -26.53722\n",
       "28.12514   -26.26666\n",
       "28.10144   -26.10567\n",
       "Name: LAT, dtype: float64"
      ]
     },
     "execution_count": 27,
     "metadata": {},
     "output_type": "execute_result"
    }
   ],
   "source": [
    "data['LAT'].replace(np.NaN,data['LAT'].mean()).head()"
   ]
  },
  {
   "cell_type": "code",
   "execution_count": null,
   "metadata": {},
   "outputs": [],
   "source": []
  }
 ],
 "metadata": {
  "kernelspec": {
   "display_name": "Python 3",
   "language": "python",
   "name": "python3"
  },
  "language_info": {
   "codemirror_mode": {
    "name": "ipython",
    "version": 3
   },
   "file_extension": ".py",
   "mimetype": "text/x-python",
   "name": "python",
   "nbconvert_exporter": "python",
   "pygments_lexer": "ipython3",
   "version": "3.7.4"
  }
 },
 "nbformat": 4,
 "nbformat_minor": 4
}
