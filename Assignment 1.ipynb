{
 "cells": [
  {
   "cell_type": "code",
   "execution_count": 1,
   "metadata": {},
   "outputs": [
    {
     "data": {
      "text/plain": [
       "5"
      ]
     },
     "execution_count": 1,
     "metadata": {},
     "output_type": "execute_result"
    }
   ],
   "source": [
    "3+2"
   ]
  },
  {
   "cell_type": "code",
   "execution_count": 17,
   "metadata": {},
   "outputs": [
    {
     "name": "stdout",
     "output_type": "stream",
     "text": [
      "enter the numbers\n",
      "99 86 87 88 111 86 103 87 94 78 77 85 86\n",
      "x = [ 99  86  87  88 111  86 103  87  94  78  77  85  86]\n",
      "mean = 89.76923076923077\n",
      "median = 87.0\n",
      "ModeResult(mode=array([86]), count=array([3]))\n",
      "standard deviation = 9.258292301032677\n",
      "variance = 85.71597633136093\n"
     ]
    }
   ],
   "source": [
    "import numpy\n",
    "from scipy import stats\n",
    "\n",
    "print(\"enter the numbers\")\n",
    "ar = list(map(int, input().strip().split()))\n",
    "x = numpy.array(ar)\n",
    "print(\"x = \"+str(x))\n",
    "print(\"mean = \"+str(numpy.mean(ar)))\n",
    "print(\"median = \"+str(numpy.median(ar)))\n",
    "print(stats.mode(ar))\n",
    "print(\"standard deviation = \"+str(numpy.std(ar)))\n",
    "print(\"variance = \"+str(numpy.var(ar)))"
   ]
  },
  {
   "cell_type": "code",
   "execution_count": 8,
   "metadata": {},
   "outputs": [
    {
     "name": "stdout",
     "output_type": "stream",
     "text": [
      "ModeResult(mode=array([86]), count=array([3]))\n"
     ]
    }
   ],
   "source": [
    "from scipy import stats\n",
    "ar = [99,86,87,88,111,86,103,87,94,78,77,85,86]\n",
    "print(stats.mode(ar))"
   ]
  },
  {
   "cell_type": "code",
   "execution_count": null,
   "metadata": {},
   "outputs": [],
   "source": []
  }
 ],
 "metadata": {
  "kernelspec": {
   "display_name": "Python 3",
   "language": "python",
   "name": "python3"
  },
  "language_info": {
   "codemirror_mode": {
    "name": "ipython",
    "version": 3
   },
   "file_extension": ".py",
   "mimetype": "text/x-python",
   "name": "python",
   "nbconvert_exporter": "python",
   "pygments_lexer": "ipython3",
   "version": "3.7.4"
  }
 },
 "nbformat": 4,
 "nbformat_minor": 4
}
